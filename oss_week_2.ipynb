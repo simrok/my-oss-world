{
  "nbformat": 4,
  "nbformat_minor": 0,
  "metadata": {
    "colab": {
      "provenance": [],
      "authorship_tag": "ABX9TyPNZ/vDE8ddBhlkwELh90Gy",
      "include_colab_link": true
    },
    "kernelspec": {
      "name": "python3",
      "display_name": "Python 3"
    },
    "language_info": {
      "name": "python"
    }
  },
  "cells": [
    {
      "cell_type": "markdown",
      "metadata": {
        "id": "view-in-github",
        "colab_type": "text"
      },
      "source": [
        "<a href=\"https://colab.research.google.com/github/simrok/my-oss-world/blob/main/oss_week_2.ipynb\" target=\"_parent\"><img src=\"https://colab.research.google.com/assets/colab-badge.svg\" alt=\"Open In Colab\"/></a>"
      ]
    },
    {
      "cell_type": "markdown",
      "source": [
        "## 1일차: 불국사 방문하기\n",
        "\n",
        "& c  = a^2  + 6 \\alpha $\n",
        "\n",
        "🔥\n",
        "[어느 사이트](http: https://github.com/ )\n",
        "\n",
        "\n",
        "end\n",
        "ctrl rightbutton\n",
        "alt tab  alt shift tab"
      ],
      "metadata": {
        "id": "hel7pdFXmThM"
      }
    },
    {
      "cell_type": "code",
      "execution_count": null,
      "metadata": {
        "id": "XGzpFiCCmR6r"
      },
      "outputs": [],
      "source": []
    },
    {
      "cell_type": "markdown",
      "source": [
        "나의 불국사 탐방기"
      ],
      "metadata": {
        "id": "MIvuOBlarGwX"
      }
    },
    {
      "cell_type": "code",
      "source": [
        "a = 60\n",
        "b = 30"
      ],
      "metadata": {
        "id": "55eZ0woumwOI"
      },
      "execution_count": null,
      "outputs": []
    },
    {
      "cell_type": "code",
      "source": [
        "def abc (a, b):\n",
        "  # 주석\n",
        "        return c"
      ],
      "metadata": {
        "id": "GSnn4wyynBpX"
      },
      "execution_count": null,
      "outputs": []
    },
    {
      "cell_type": "code",
      "source": [
        "date_input = '2024-03-04' #@param {t]\n"
      ],
      "metadata": {
        "id": "HWUcwlM1pMBU"
      },
      "execution_count": null,
      "outputs": []
    },
    {
      "cell_type": "code",
      "source": [
        "\n"
      ],
      "metadata": {
        "colab": {
          "base_uri": "https://localhost:8080/",
          "height": 112
        },
        "id": "Eqpi0Wqd6Nwc",
        "outputId": "02571212-3946-4a23-d241-0c19e00d9b52"
      },
      "execution_count": null,
      "outputs": [
        {
          "output_type": "error",
          "ename": "SyntaxError",
          "evalue": "invalid syntax (<ipython-input-1-8fde8a6e9b9a>, line 1)",
          "traceback": [
            "\u001b[0;36m  File \u001b[0;32m\"<ipython-input-1-8fde8a6e9b9a>\"\u001b[0;36m, line \u001b[0;32m1\u001b[0m\n\u001b[0;31m    <!doctype html>\u001b[0m\n\u001b[0m    ^\u001b[0m\n\u001b[0;31mSyntaxError\u001b[0m\u001b[0;31m:\u001b[0m invalid syntax\n"
          ]
        }
      ]
    },
    {
      "cell_type": "markdown",
      "source": [],
      "metadata": {
        "id": "qJejxZKerFpR"
      }
    }
  ]
}